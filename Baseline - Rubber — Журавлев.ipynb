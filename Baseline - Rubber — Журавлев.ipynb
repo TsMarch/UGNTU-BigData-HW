{
 "cells": [
  {
   "cell_type": "code",
   "execution_count": 1,
   "metadata": {
    "ExecuteTime": {
     "end_time": "2019-10-14T03:12:14.905228Z",
     "start_time": "2019-10-14T03:12:13.865229Z"
    }
   },
   "outputs": [
    {
     "name": "stdout",
     "output_type": "stream",
     "text": [
      "%pylab is deprecated, use %matplotlib inline and import the required libraries.\n",
      "Populating the interactive namespace from numpy and matplotlib\n"
     ]
    }
   ],
   "source": [
    "%pylab inline\n",
    "plt.style.use(\"bmh\")"
   ]
  },
  {
   "cell_type": "code",
   "execution_count": 2,
   "metadata": {
    "ExecuteTime": {
     "end_time": "2019-10-14T03:12:14.922137Z",
     "start_time": "2019-10-14T03:12:14.912361Z"
    }
   },
   "outputs": [],
   "source": [
    "plt.rcParams[\"figure.figsize\"] = (6,6)"
   ]
  },
  {
   "cell_type": "code",
   "execution_count": 3,
   "metadata": {
    "ExecuteTime": {
     "end_time": "2019-10-14T03:12:15.712634Z",
     "start_time": "2019-10-14T03:12:14.930509Z"
    }
   },
   "outputs": [],
   "source": [
    "import numpy as np\n",
    "import pandas as pd"
   ]
  },
  {
   "cell_type": "code",
   "execution_count": 4,
   "metadata": {
    "ExecuteTime": {
     "end_time": "2019-10-14T03:12:15.735930Z",
     "start_time": "2019-10-14T03:12:15.716622Z"
    }
   },
   "outputs": [],
   "source": [
    "import tqdm\n",
    "import pathlib"
   ]
  },
  {
   "cell_type": "code",
   "execution_count": 80,
   "metadata": {
    "ExecuteTime": {
     "end_time": "2019-10-14T03:12:16.769586Z",
     "start_time": "2019-10-14T03:12:15.740276Z"
    }
   },
   "outputs": [],
   "source": [
    "from sklearn.linear_model import ElasticNet\n",
    "from sklearn.metrics import mean_absolute_error\n",
    "from sklearn.preprocessing import StandardScaler\n",
    "from sklearn.model_selection import ParameterGrid\n",
    "from sklearn.metrics import mean_squared_error, mean_absolute_error, r2_score\n",
    "from sklearn.ensemble import RandomForestRegressor\n",
    "from sklearn.linear_model import LassoCV, RidgeCV, ElasticNetCV, LinearRegression\n",
    "from sklearn.ensemble import GradientBoostingRegressor, ExtraTreesRegressor\n",
    "from sklearn.linear_model import LinearRegression, Lasso, Ridge\n",
    "from sklearn.linear_model import LassoCV, RidgeCV\n",
    "from sklearn.ensemble import RandomForestRegressor\n"
   ]
  },
  {
   "cell_type": "code",
   "execution_count": 6,
   "metadata": {
    "ExecuteTime": {
     "end_time": "2019-10-14T03:12:16.786391Z",
     "start_time": "2019-10-14T03:12:16.775848Z"
    }
   },
   "outputs": [],
   "source": [
    "DATA_DIR = pathlib.Path(\"./csv\")"
   ]
  },
  {
   "cell_type": "code",
   "execution_count": 7,
   "metadata": {
    "ExecuteTime": {
     "end_time": "2019-10-14T03:12:16.797014Z",
     "start_time": "2019-10-14T03:12:16.790968Z"
    }
   },
   "outputs": [],
   "source": [
    "RS = 283654"
   ]
  },
  {
   "cell_type": "markdown",
   "metadata": {},
   "source": [
    "### Версии:\n",
    "\n",
    "- `numpy`: 1.16.3\n",
    "- `pandas`: 0.24.2\n",
    "- `sklearn`: 0.21.2"
   ]
  },
  {
   "cell_type": "markdown",
   "metadata": {},
   "source": [
    "# Загрузка данных"
   ]
  },
  {
   "cell_type": "code",
   "execution_count": 8,
   "metadata": {
    "ExecuteTime": {
     "end_time": "2019-10-14T03:12:16.867300Z",
     "start_time": "2019-10-14T03:12:16.803728Z"
    }
   },
   "outputs": [],
   "source": [
    "train_target = pd.read_csv(DATA_DIR.joinpath(\"rubber_target_train.csv\"), index_col=\"date\", parse_dates=[\"date\"])\n",
    "test_target = pd.read_csv(DATA_DIR.joinpath(\"rubber_test_timestamps.csv\"), index_col=\"date\", parse_dates=[\"date\"])\n",
    "data = pd.read_csv(DATA_DIR.joinpath(\"rubber_daily.csv\"), index_col=\"date\", parse_dates=[\"date\"])"
   ]
  },
  {
   "cell_type": "code",
   "execution_count": 9,
   "metadata": {
    "ExecuteTime": {
     "end_time": "2019-10-14T03:12:16.896154Z",
     "start_time": "2019-10-14T03:12:16.871675Z"
    }
   },
   "outputs": [
    {
     "data": {
      "text/html": [
       "<div>\n",
       "<style scoped>\n",
       "    .dataframe tbody tr th:only-of-type {\n",
       "        vertical-align: middle;\n",
       "    }\n",
       "\n",
       "    .dataframe tbody tr th {\n",
       "        vertical-align: top;\n",
       "    }\n",
       "\n",
       "    .dataframe thead th {\n",
       "        text-align: right;\n",
       "    }\n",
       "</style>\n",
       "<table border=\"1\" class=\"dataframe\">\n",
       "  <thead>\n",
       "    <tr style=\"text-align: right;\">\n",
       "      <th></th>\n",
       "      <th>rubber</th>\n",
       "    </tr>\n",
       "    <tr>\n",
       "      <th>date</th>\n",
       "      <th></th>\n",
       "    </tr>\n",
       "  </thead>\n",
       "  <tbody>\n",
       "    <tr>\n",
       "      <th>2002-08-01</th>\n",
       "      <td>830.595238</td>\n",
       "    </tr>\n",
       "    <tr>\n",
       "      <th>2002-09-01</th>\n",
       "      <td>895.476190</td>\n",
       "    </tr>\n",
       "    <tr>\n",
       "      <th>2002-10-01</th>\n",
       "      <td>831.304348</td>\n",
       "    </tr>\n",
       "    <tr>\n",
       "      <th>2002-11-01</th>\n",
       "      <td>840.250000</td>\n",
       "    </tr>\n",
       "    <tr>\n",
       "      <th>2002-12-01</th>\n",
       "      <td>849.875000</td>\n",
       "    </tr>\n",
       "  </tbody>\n",
       "</table>\n",
       "</div>"
      ],
      "text/plain": [
       "                rubber\n",
       "date                  \n",
       "2002-08-01  830.595238\n",
       "2002-09-01  895.476190\n",
       "2002-10-01  831.304348\n",
       "2002-11-01  840.250000\n",
       "2002-12-01  849.875000"
      ]
     },
     "execution_count": 9,
     "metadata": {},
     "output_type": "execute_result"
    }
   ],
   "source": [
    "train_target.head()"
   ]
  },
  {
   "cell_type": "code",
   "execution_count": 10,
   "metadata": {
    "ExecuteTime": {
     "end_time": "2019-10-14T03:12:16.959211Z",
     "start_time": "2019-10-14T03:12:16.901414Z"
    }
   },
   "outputs": [
    {
     "data": {
      "text/html": [
       "<div>\n",
       "<style scoped>\n",
       "    .dataframe tbody tr th:only-of-type {\n",
       "        vertical-align: middle;\n",
       "    }\n",
       "\n",
       "    .dataframe tbody tr th {\n",
       "        vertical-align: top;\n",
       "    }\n",
       "\n",
       "    .dataframe thead th {\n",
       "        text-align: right;\n",
       "    }\n",
       "</style>\n",
       "<table border=\"1\" class=\"dataframe\">\n",
       "  <thead>\n",
       "    <tr style=\"text-align: right;\">\n",
       "      <th></th>\n",
       "      <th>brent_close</th>\n",
       "      <th>brent_open</th>\n",
       "      <th>brent_max</th>\n",
       "      <th>brent_min</th>\n",
       "      <th>USDCNY_close</th>\n",
       "      <th>USDCNY_open</th>\n",
       "      <th>USDCNY_max</th>\n",
       "      <th>USDCNY_min</th>\n",
       "      <th>USDTHB_mid</th>\n",
       "      <th>USDTHB_max</th>\n",
       "      <th>...</th>\n",
       "      <th>USDTHB_open</th>\n",
       "      <th>USDIDR_mid</th>\n",
       "      <th>USDIDR_max</th>\n",
       "      <th>USDIDR_min</th>\n",
       "      <th>USDIDR_open</th>\n",
       "      <th>USDVND_mid</th>\n",
       "      <th>USDVND_max</th>\n",
       "      <th>USDVND_min</th>\n",
       "      <th>USDVND_open</th>\n",
       "      <th>rubber_close</th>\n",
       "    </tr>\n",
       "    <tr>\n",
       "      <th>date</th>\n",
       "      <th></th>\n",
       "      <th></th>\n",
       "      <th></th>\n",
       "      <th></th>\n",
       "      <th></th>\n",
       "      <th></th>\n",
       "      <th></th>\n",
       "      <th></th>\n",
       "      <th></th>\n",
       "      <th></th>\n",
       "      <th></th>\n",
       "      <th></th>\n",
       "      <th></th>\n",
       "      <th></th>\n",
       "      <th></th>\n",
       "      <th></th>\n",
       "      <th></th>\n",
       "      <th></th>\n",
       "      <th></th>\n",
       "      <th></th>\n",
       "      <th></th>\n",
       "    </tr>\n",
       "  </thead>\n",
       "  <tbody>\n",
       "    <tr>\n",
       "      <th>2002-07-01</th>\n",
       "      <td>25.64</td>\n",
       "      <td>25.50</td>\n",
       "      <td>25.72</td>\n",
       "      <td>25.39</td>\n",
       "      <td>8.2770</td>\n",
       "      <td>8.2770</td>\n",
       "      <td>8.2770</td>\n",
       "      <td>8.2770</td>\n",
       "      <td>41.570</td>\n",
       "      <td>41.570</td>\n",
       "      <td>...</td>\n",
       "      <td>41.50</td>\n",
       "      <td>8710.0</td>\n",
       "      <td>8715.0</td>\n",
       "      <td>8669.0</td>\n",
       "      <td>8700.0</td>\n",
       "      <td>15297.5</td>\n",
       "      <td>NaN</td>\n",
       "      <td>NaN</td>\n",
       "      <td>NaN</td>\n",
       "      <td>835.0</td>\n",
       "    </tr>\n",
       "    <tr>\n",
       "      <th>2002-07-02</th>\n",
       "      <td>25.75</td>\n",
       "      <td>25.61</td>\n",
       "      <td>25.97</td>\n",
       "      <td>25.60</td>\n",
       "      <td>8.2769</td>\n",
       "      <td>8.2769</td>\n",
       "      <td>8.2769</td>\n",
       "      <td>8.2769</td>\n",
       "      <td>41.515</td>\n",
       "      <td>41.560</td>\n",
       "      <td>...</td>\n",
       "      <td>41.54</td>\n",
       "      <td>8805.0</td>\n",
       "      <td>8820.0</td>\n",
       "      <td>8720.0</td>\n",
       "      <td>8720.0</td>\n",
       "      <td>15297.0</td>\n",
       "      <td>NaN</td>\n",
       "      <td>NaN</td>\n",
       "      <td>NaN</td>\n",
       "      <td>827.5</td>\n",
       "    </tr>\n",
       "    <tr>\n",
       "      <th>2002-07-03</th>\n",
       "      <td>25.84</td>\n",
       "      <td>25.73</td>\n",
       "      <td>25.96</td>\n",
       "      <td>25.52</td>\n",
       "      <td>8.2768</td>\n",
       "      <td>8.2768</td>\n",
       "      <td>8.2768</td>\n",
       "      <td>8.2768</td>\n",
       "      <td>41.610</td>\n",
       "      <td>41.645</td>\n",
       "      <td>...</td>\n",
       "      <td>41.53</td>\n",
       "      <td>8965.0</td>\n",
       "      <td>8985.0</td>\n",
       "      <td>8790.0</td>\n",
       "      <td>8825.0</td>\n",
       "      <td>15297.5</td>\n",
       "      <td>NaN</td>\n",
       "      <td>NaN</td>\n",
       "      <td>NaN</td>\n",
       "      <td>847.5</td>\n",
       "    </tr>\n",
       "    <tr>\n",
       "      <th>2002-07-04</th>\n",
       "      <td>25.55</td>\n",
       "      <td>25.88</td>\n",
       "      <td>25.94</td>\n",
       "      <td>25.50</td>\n",
       "      <td>8.2767</td>\n",
       "      <td>8.2767</td>\n",
       "      <td>8.2767</td>\n",
       "      <td>8.2767</td>\n",
       "      <td>41.545</td>\n",
       "      <td>41.620</td>\n",
       "      <td>...</td>\n",
       "      <td>41.50</td>\n",
       "      <td>8855.0</td>\n",
       "      <td>8970.0</td>\n",
       "      <td>8790.0</td>\n",
       "      <td>8790.0</td>\n",
       "      <td>15298.5</td>\n",
       "      <td>NaN</td>\n",
       "      <td>NaN</td>\n",
       "      <td>NaN</td>\n",
       "      <td>847.5</td>\n",
       "    </tr>\n",
       "    <tr>\n",
       "      <th>2002-07-05</th>\n",
       "      <td>25.73</td>\n",
       "      <td>25.65</td>\n",
       "      <td>25.75</td>\n",
       "      <td>25.42</td>\n",
       "      <td>8.2766</td>\n",
       "      <td>8.2766</td>\n",
       "      <td>8.2766</td>\n",
       "      <td>8.2766</td>\n",
       "      <td>41.645</td>\n",
       "      <td>41.640</td>\n",
       "      <td>...</td>\n",
       "      <td>41.56</td>\n",
       "      <td>8860.0</td>\n",
       "      <td>8850.0</td>\n",
       "      <td>8815.0</td>\n",
       "      <td>8830.0</td>\n",
       "      <td>15295.0</td>\n",
       "      <td>NaN</td>\n",
       "      <td>NaN</td>\n",
       "      <td>NaN</td>\n",
       "      <td>847.5</td>\n",
       "    </tr>\n",
       "  </tbody>\n",
       "</table>\n",
       "<p>5 rows × 21 columns</p>\n",
       "</div>"
      ],
      "text/plain": [
       "            brent_close  brent_open  brent_max  brent_min  USDCNY_close  \\\n",
       "date                                                                      \n",
       "2002-07-01        25.64       25.50      25.72      25.39        8.2770   \n",
       "2002-07-02        25.75       25.61      25.97      25.60        8.2769   \n",
       "2002-07-03        25.84       25.73      25.96      25.52        8.2768   \n",
       "2002-07-04        25.55       25.88      25.94      25.50        8.2767   \n",
       "2002-07-05        25.73       25.65      25.75      25.42        8.2766   \n",
       "\n",
       "            USDCNY_open  USDCNY_max  USDCNY_min  USDTHB_mid  USDTHB_max  ...  \\\n",
       "date                                                                     ...   \n",
       "2002-07-01       8.2770      8.2770      8.2770      41.570      41.570  ...   \n",
       "2002-07-02       8.2769      8.2769      8.2769      41.515      41.560  ...   \n",
       "2002-07-03       8.2768      8.2768      8.2768      41.610      41.645  ...   \n",
       "2002-07-04       8.2767      8.2767      8.2767      41.545      41.620  ...   \n",
       "2002-07-05       8.2766      8.2766      8.2766      41.645      41.640  ...   \n",
       "\n",
       "            USDTHB_open  USDIDR_mid  USDIDR_max  USDIDR_min  USDIDR_open  \\\n",
       "date                                                                       \n",
       "2002-07-01        41.50      8710.0      8715.0      8669.0       8700.0   \n",
       "2002-07-02        41.54      8805.0      8820.0      8720.0       8720.0   \n",
       "2002-07-03        41.53      8965.0      8985.0      8790.0       8825.0   \n",
       "2002-07-04        41.50      8855.0      8970.0      8790.0       8790.0   \n",
       "2002-07-05        41.56      8860.0      8850.0      8815.0       8830.0   \n",
       "\n",
       "            USDVND_mid  USDVND_max  USDVND_min  USDVND_open  rubber_close  \n",
       "date                                                                       \n",
       "2002-07-01     15297.5         NaN         NaN          NaN         835.0  \n",
       "2002-07-02     15297.0         NaN         NaN          NaN         827.5  \n",
       "2002-07-03     15297.5         NaN         NaN          NaN         847.5  \n",
       "2002-07-04     15298.5         NaN         NaN          NaN         847.5  \n",
       "2002-07-05     15295.0         NaN         NaN          NaN         847.5  \n",
       "\n",
       "[5 rows x 21 columns]"
      ]
     },
     "execution_count": 10,
     "metadata": {},
     "output_type": "execute_result"
    }
   ],
   "source": [
    "data.head()"
   ]
  },
  {
   "cell_type": "code",
   "execution_count": 11,
   "metadata": {
    "ExecuteTime": {
     "end_time": "2019-10-14T03:12:16.973899Z",
     "start_time": "2019-10-14T03:12:16.962823Z"
    }
   },
   "outputs": [
    {
     "data": {
      "text/html": [
       "<div>\n",
       "<style scoped>\n",
       "    .dataframe tbody tr th:only-of-type {\n",
       "        vertical-align: middle;\n",
       "    }\n",
       "\n",
       "    .dataframe tbody tr th {\n",
       "        vertical-align: top;\n",
       "    }\n",
       "\n",
       "    .dataframe thead th {\n",
       "        text-align: right;\n",
       "    }\n",
       "</style>\n",
       "<table border=\"1\" class=\"dataframe\">\n",
       "  <thead>\n",
       "    <tr style=\"text-align: right;\">\n",
       "      <th></th>\n",
       "    </tr>\n",
       "    <tr>\n",
       "      <th>date</th>\n",
       "    </tr>\n",
       "  </thead>\n",
       "  <tbody>\n",
       "    <tr>\n",
       "      <th>2016-01-01</th>\n",
       "    </tr>\n",
       "    <tr>\n",
       "      <th>2016-02-01</th>\n",
       "    </tr>\n",
       "    <tr>\n",
       "      <th>2016-03-01</th>\n",
       "    </tr>\n",
       "    <tr>\n",
       "      <th>2016-04-01</th>\n",
       "    </tr>\n",
       "    <tr>\n",
       "      <th>2016-05-01</th>\n",
       "    </tr>\n",
       "  </tbody>\n",
       "</table>\n",
       "</div>"
      ],
      "text/plain": [
       "Empty DataFrame\n",
       "Columns: []\n",
       "Index: [2016-01-01 00:00:00, 2016-02-01 00:00:00, 2016-03-01 00:00:00, 2016-04-01 00:00:00, 2016-05-01 00:00:00]"
      ]
     },
     "execution_count": 11,
     "metadata": {},
     "output_type": "execute_result"
    }
   ],
   "source": [
    "test_target.head()"
   ]
  },
  {
   "cell_type": "code",
   "execution_count": 12,
   "metadata": {
    "ExecuteTime": {
     "end_time": "2019-10-14T03:12:17.002110Z",
     "start_time": "2019-10-14T03:12:16.977867Z"
    }
   },
   "outputs": [
    {
     "name": "stdout",
     "output_type": "stream",
     "text": [
      "<class 'pandas.core.frame.DataFrame'>\n",
      "DatetimeIndex: 4221 entries, 2002-07-01 to 2019-06-28\n",
      "Data columns (total 21 columns):\n",
      " #   Column        Non-Null Count  Dtype  \n",
      "---  ------        --------------  -----  \n",
      " 0   brent_close   4221 non-null   float64\n",
      " 1   brent_open    4221 non-null   float64\n",
      " 2   brent_max     4221 non-null   float64\n",
      " 3   brent_min     4221 non-null   float64\n",
      " 4   USDCNY_close  4221 non-null   float64\n",
      " 5   USDCNY_open   4221 non-null   float64\n",
      " 6   USDCNY_max    4221 non-null   float64\n",
      " 7   USDCNY_min    4221 non-null   float64\n",
      " 8   USDTHB_mid    4221 non-null   float64\n",
      " 9   USDTHB_max    4220 non-null   float64\n",
      " 10  USDTHB_min    4220 non-null   float64\n",
      " 11  USDTHB_open   4220 non-null   float64\n",
      " 12  USDIDR_mid    4219 non-null   float64\n",
      " 13  USDIDR_max    4092 non-null   float64\n",
      " 14  USDIDR_min    4092 non-null   float64\n",
      " 15  USDIDR_open   4091 non-null   float64\n",
      " 16  USDVND_mid    4209 non-null   float64\n",
      " 17  USDVND_max    2675 non-null   float64\n",
      " 18  USDVND_min    2675 non-null   float64\n",
      " 19  USDVND_open   2674 non-null   float64\n",
      " 20  rubber_close  4221 non-null   float64\n",
      "dtypes: float64(21)\n",
      "memory usage: 725.5 KB\n"
     ]
    }
   ],
   "source": [
    "data.info()"
   ]
  },
  {
   "cell_type": "code",
   "execution_count": 13,
   "metadata": {
    "ExecuteTime": {
     "end_time": "2019-10-14T03:12:17.755824Z",
     "start_time": "2019-10-14T03:12:17.006212Z"
    }
   },
   "outputs": [
    {
     "data": {
      "text/plain": [
       "Text(0.5, 1.0, 'Rubber prices')"
      ]
     },
     "execution_count": 13,
     "metadata": {},
     "output_type": "execute_result"
    },
    {
     "data": {
      "image/png": "[encoded data removed]",
      "text/plain": [
       "<Figure size 600x600 with 1 Axes>"
      ]
     },
     "metadata": {},
     "output_type": "display_data"
    }
   ],
   "source": [
    "train_target[\"rubber\"].plot(ax=plt.gca(), label=\"target\")\n",
    "plt.legend(loc=0)\n",
    "plt.ylabel(\"$\")\n",
    "plt.tight_layout()\n",
    "plt.title(\"Rubber prices\", fontsize=12)"
   ]
  },
  {
   "cell_type": "markdown",
   "metadata": {},
   "source": [
    "# Признаки"
   ]
  },
  {
   "cell_type": "code",
   "execution_count": 14,
   "metadata": {
    "ExecuteTime": {
     "end_time": "2019-10-14T03:12:17.786388Z",
     "start_time": "2019-10-14T03:12:17.761477Z"
    }
   },
   "outputs": [],
   "source": [
    "fts = data.resample(\"D\").mean()"
   ]
  },
  {
   "cell_type": "code",
   "execution_count": 15,
   "metadata": {
    "ExecuteTime": {
     "end_time": "2019-10-14T03:12:17.797813Z",
     "start_time": "2019-10-14T03:12:17.790036Z"
    }
   },
   "outputs": [],
   "source": [
    "PERIODS = [\"1D\", \"7D\", \"30D\", \"60D\", \"180D\"]\n",
    "AGGREGATES = [\"mean\", \"median\", \"std\", \"max\", \"min\"]"
   ]
  },
  {
   "cell_type": "code",
   "execution_count": 16,
   "metadata": {
    "ExecuteTime": {
     "end_time": "2019-10-14T03:12:18.681738Z",
     "start_time": "2019-10-14T03:12:17.804611Z"
    }
   },
   "outputs": [
    {
     "name": "stderr",
     "output_type": "stream",
     "text": [
      "C:\\Users\\user\\AppData\\Local\\Temp\\ipykernel_17628\\81040520.py:3: TqdmDeprecationWarning: This function will be removed in tqdm==5.0.0\n",
      "Please use `tqdm.notebook.tqdm` instead of `tqdm.tqdm_notebook`\n",
      "  for period in tqdm.tqdm_notebook(PERIODS):\n"
     ]
    },
    {
     "data": {
      "application/vnd.jupyter.widget-view+json": {
       "model_id": "4aef76610dfe48129a387f3662c4d91c",
       "version_major": 2,
       "version_minor": 0
      },
      "text/plain": [
       "  0%|          | 0/5 [00:00<?, ?it/s]"
      ]
     },
     "metadata": {},
     "output_type": "display_data"
    }
   ],
   "source": [
    "all_features = []\n",
    "\n",
    "for period in tqdm.tqdm_notebook(PERIODS):\n",
    "    for agg in AGGREGATES:\n",
    "        if agg != \"mean\" and period == \"1D\":\n",
    "            continue\n",
    "        rolling_features = fts.rolling(period).aggregate(agg)\n",
    "        rolling_features.rename(lambda x: \"_\".join([x, period, agg]), axis=1, inplace=True)\n",
    "        all_features.append(rolling_features[rolling_features.index.day==9])"
   ]
  },
  {
   "cell_type": "code",
   "execution_count": 17,
   "metadata": {
    "ExecuteTime": {
     "end_time": "2019-10-14T03:12:18.704760Z",
     "start_time": "2019-10-14T03:12:18.688145Z"
    }
   },
   "outputs": [],
   "source": [
    "all_features = pd.concat(all_features, axis=1)"
   ]
  },
  {
   "cell_type": "code",
   "execution_count": 18,
   "metadata": {
    "ExecuteTime": {
     "end_time": "2019-10-14T03:12:18.761786Z",
     "start_time": "2019-10-14T03:12:18.709114Z"
    }
   },
   "outputs": [
    {
     "data": {
      "text/html": [
       "<div>\n",
       "<style scoped>\n",
       "    .dataframe tbody tr th:only-of-type {\n",
       "        vertical-align: middle;\n",
       "    }\n",
       "\n",
       "    .dataframe tbody tr th {\n",
       "        vertical-align: top;\n",
       "    }\n",
       "\n",
       "    .dataframe thead th {\n",
       "        text-align: right;\n",
       "    }\n",
       "</style>\n",
       "<table border=\"1\" class=\"dataframe\">\n",
       "  <thead>\n",
       "    <tr style=\"text-align: right;\">\n",
       "      <th></th>\n",
       "      <th>brent_close_1D_mean</th>\n",
       "      <th>brent_open_1D_mean</th>\n",
       "      <th>brent_max_1D_mean</th>\n",
       "      <th>brent_min_1D_mean</th>\n",
       "      <th>USDCNY_close_1D_mean</th>\n",
       "      <th>USDCNY_open_1D_mean</th>\n",
       "      <th>USDCNY_max_1D_mean</th>\n",
       "      <th>USDCNY_min_1D_mean</th>\n",
       "      <th>USDTHB_mid_1D_mean</th>\n",
       "      <th>USDTHB_max_1D_mean</th>\n",
       "      <th>...</th>\n",
       "      <th>USDTHB_open_180D_min</th>\n",
       "      <th>USDIDR_mid_180D_min</th>\n",
       "      <th>USDIDR_max_180D_min</th>\n",
       "      <th>USDIDR_min_180D_min</th>\n",
       "      <th>USDIDR_open_180D_min</th>\n",
       "      <th>USDVND_mid_180D_min</th>\n",
       "      <th>USDVND_max_180D_min</th>\n",
       "      <th>USDVND_min_180D_min</th>\n",
       "      <th>USDVND_open_180D_min</th>\n",
       "      <th>rubber_close_180D_min</th>\n",
       "    </tr>\n",
       "    <tr>\n",
       "      <th>date</th>\n",
       "      <th></th>\n",
       "      <th></th>\n",
       "      <th></th>\n",
       "      <th></th>\n",
       "      <th></th>\n",
       "      <th></th>\n",
       "      <th></th>\n",
       "      <th></th>\n",
       "      <th></th>\n",
       "      <th></th>\n",
       "      <th></th>\n",
       "      <th></th>\n",
       "      <th></th>\n",
       "      <th></th>\n",
       "      <th></th>\n",
       "      <th></th>\n",
       "      <th></th>\n",
       "      <th></th>\n",
       "      <th></th>\n",
       "      <th></th>\n",
       "      <th></th>\n",
       "    </tr>\n",
       "  </thead>\n",
       "  <tbody>\n",
       "    <tr>\n",
       "      <th>2002-07-09</th>\n",
       "      <td>25.17</td>\n",
       "      <td>25.10</td>\n",
       "      <td>25.20</td>\n",
       "      <td>24.75</td>\n",
       "      <td>8.2766</td>\n",
       "      <td>8.2766</td>\n",
       "      <td>8.2766</td>\n",
       "      <td>8.2766</td>\n",
       "      <td>41.265</td>\n",
       "      <td>41.45</td>\n",
       "      <td>...</td>\n",
       "      <td>41.42</td>\n",
       "      <td>8710.0</td>\n",
       "      <td>8715.0</td>\n",
       "      <td>8669.0</td>\n",
       "      <td>8700.0</td>\n",
       "      <td>15295.0</td>\n",
       "      <td>NaN</td>\n",
       "      <td>NaN</td>\n",
       "      <td>NaN</td>\n",
       "      <td>827.5</td>\n",
       "    </tr>\n",
       "    <tr>\n",
       "      <th>2002-08-09</th>\n",
       "      <td>NaN</td>\n",
       "      <td>NaN</td>\n",
       "      <td>NaN</td>\n",
       "      <td>NaN</td>\n",
       "      <td>NaN</td>\n",
       "      <td>NaN</td>\n",
       "      <td>NaN</td>\n",
       "      <td>NaN</td>\n",
       "      <td>NaN</td>\n",
       "      <td>NaN</td>\n",
       "      <td>...</td>\n",
       "      <td>40.39</td>\n",
       "      <td>8710.0</td>\n",
       "      <td>8715.0</td>\n",
       "      <td>8669.0</td>\n",
       "      <td>8700.0</td>\n",
       "      <td>15292.0</td>\n",
       "      <td>NaN</td>\n",
       "      <td>NaN</td>\n",
       "      <td>NaN</td>\n",
       "      <td>772.5</td>\n",
       "    </tr>\n",
       "    <tr>\n",
       "      <th>2002-09-09</th>\n",
       "      <td>28.49</td>\n",
       "      <td>28.61</td>\n",
       "      <td>28.65</td>\n",
       "      <td>28.05</td>\n",
       "      <td>8.2770</td>\n",
       "      <td>8.2770</td>\n",
       "      <td>8.2770</td>\n",
       "      <td>8.2770</td>\n",
       "      <td>42.405</td>\n",
       "      <td>42.42</td>\n",
       "      <td>...</td>\n",
       "      <td>40.39</td>\n",
       "      <td>8710.0</td>\n",
       "      <td>8715.0</td>\n",
       "      <td>8669.0</td>\n",
       "      <td>8700.0</td>\n",
       "      <td>15292.0</td>\n",
       "      <td>NaN</td>\n",
       "      <td>NaN</td>\n",
       "      <td>NaN</td>\n",
       "      <td>772.5</td>\n",
       "    </tr>\n",
       "    <tr>\n",
       "      <th>2002-10-09</th>\n",
       "      <td>28.13</td>\n",
       "      <td>28.09</td>\n",
       "      <td>28.40</td>\n",
       "      <td>27.87</td>\n",
       "      <td>8.2771</td>\n",
       "      <td>8.2771</td>\n",
       "      <td>8.2771</td>\n",
       "      <td>8.2771</td>\n",
       "      <td>43.680</td>\n",
       "      <td>43.75</td>\n",
       "      <td>...</td>\n",
       "      <td>40.39</td>\n",
       "      <td>8710.0</td>\n",
       "      <td>8715.0</td>\n",
       "      <td>8669.0</td>\n",
       "      <td>8700.0</td>\n",
       "      <td>15292.0</td>\n",
       "      <td>NaN</td>\n",
       "      <td>NaN</td>\n",
       "      <td>NaN</td>\n",
       "      <td>772.5</td>\n",
       "    </tr>\n",
       "    <tr>\n",
       "      <th>2002-11-09</th>\n",
       "      <td>NaN</td>\n",
       "      <td>NaN</td>\n",
       "      <td>NaN</td>\n",
       "      <td>NaN</td>\n",
       "      <td>NaN</td>\n",
       "      <td>NaN</td>\n",
       "      <td>NaN</td>\n",
       "      <td>NaN</td>\n",
       "      <td>NaN</td>\n",
       "      <td>NaN</td>\n",
       "      <td>...</td>\n",
       "      <td>40.39</td>\n",
       "      <td>8710.0</td>\n",
       "      <td>8715.0</td>\n",
       "      <td>8669.0</td>\n",
       "      <td>8700.0</td>\n",
       "      <td>15292.0</td>\n",
       "      <td>NaN</td>\n",
       "      <td>NaN</td>\n",
       "      <td>NaN</td>\n",
       "      <td>772.5</td>\n",
       "    </tr>\n",
       "  </tbody>\n",
       "</table>\n",
       "<p>5 rows × 441 columns</p>\n",
       "</div>"
      ],
      "text/plain": [
       "            brent_close_1D_mean  brent_open_1D_mean  brent_max_1D_mean  \\\n",
       "date                                                                     \n",
       "2002-07-09                25.17               25.10              25.20   \n",
       "2002-08-09                  NaN                 NaN                NaN   \n",
       "2002-09-09                28.49               28.61              28.65   \n",
       "2002-10-09                28.13               28.09              28.40   \n",
       "2002-11-09                  NaN                 NaN                NaN   \n",
       "\n",
       "            brent_min_1D_mean  USDCNY_close_1D_mean  USDCNY_open_1D_mean  \\\n",
       "date                                                                       \n",
       "2002-07-09              24.75                8.2766               8.2766   \n",
       "2002-08-09                NaN                   NaN                  NaN   \n",
       "2002-09-09              28.05                8.2770               8.2770   \n",
       "2002-10-09              27.87                8.2771               8.2771   \n",
       "2002-11-09                NaN                   NaN                  NaN   \n",
       "\n",
       "            USDCNY_max_1D_mean  USDCNY_min_1D_mean  USDTHB_mid_1D_mean  \\\n",
       "date                                                                     \n",
       "2002-07-09              8.2766              8.2766              41.265   \n",
       "2002-08-09                 NaN                 NaN                 NaN   \n",
       "2002-09-09              8.2770              8.2770              42.405   \n",
       "2002-10-09              8.2771              8.2771              43.680   \n",
       "2002-11-09                 NaN                 NaN                 NaN   \n",
       "\n",
       "            USDTHB_max_1D_mean  ...  USDTHB_open_180D_min  \\\n",
       "date                            ...                         \n",
       "2002-07-09               41.45  ...                 41.42   \n",
       "2002-08-09                 NaN  ...                 40.39   \n",
       "2002-09-09               42.42  ...                 40.39   \n",
       "2002-10-09               43.75  ...                 40.39   \n",
       "2002-11-09                 NaN  ...                 40.39   \n",
       "\n",
       "            USDIDR_mid_180D_min  USDIDR_max_180D_min  USDIDR_min_180D_min  \\\n",
       "date                                                                        \n",
       "2002-07-09               8710.0               8715.0               8669.0   \n",
       "2002-08-09               8710.0               8715.0               8669.0   \n",
       "2002-09-09               8710.0               8715.0               8669.0   \n",
       "2002-10-09               8710.0               8715.0               8669.0   \n",
       "2002-11-09               8710.0               8715.0               8669.0   \n",
       "\n",
       "            USDIDR_open_180D_min  USDVND_mid_180D_min  USDVND_max_180D_min  \\\n",
       "date                                                                         \n",
       "2002-07-09                8700.0              15295.0                  NaN   \n",
       "2002-08-09                8700.0              15292.0                  NaN   \n",
       "2002-09-09                8700.0              15292.0                  NaN   \n",
       "2002-10-09                8700.0              15292.0                  NaN   \n",
       "2002-11-09                8700.0              15292.0                  NaN   \n",
       "\n",
       "            USDVND_min_180D_min  USDVND_open_180D_min  rubber_close_180D_min  \n",
       "date                                                                          \n",
       "2002-07-09                  NaN                   NaN                  827.5  \n",
       "2002-08-09                  NaN                   NaN                  772.5  \n",
       "2002-09-09                  NaN                   NaN                  772.5  \n",
       "2002-10-09                  NaN                   NaN                  772.5  \n",
       "2002-11-09                  NaN                   NaN                  772.5  \n",
       "\n",
       "[5 rows x 441 columns]"
      ]
     },
     "execution_count": 18,
     "metadata": {},
     "output_type": "execute_result"
    }
   ],
   "source": [
    "all_features.head()"
   ]
  },
  {
   "cell_type": "markdown",
   "metadata": {},
   "source": [
    "Выравниваем признаки к таргету:"
   ]
  },
  {
   "cell_type": "code",
   "execution_count": 19,
   "metadata": {
    "ExecuteTime": {
     "end_time": "2019-10-14T03:12:18.782216Z",
     "start_time": "2019-10-14T03:12:18.765519Z"
    }
   },
   "outputs": [],
   "source": [
    "all_features[\"prediction_date\"] = (all_features.index\n",
    "                                   + pd.TimedeltaIndex(all_features.index.days_in_month-8,\n",
    "                                                       unit=\"D\"))"
   ]
  },
  {
   "cell_type": "markdown",
   "metadata": {},
   "source": [
    "Исключаем признаки, в которых слишком много `NaN`:"
   ]
  },
  {
   "cell_type": "code",
   "execution_count": 20,
   "metadata": {
    "ExecuteTime": {
     "end_time": "2019-10-14T03:12:18.801591Z",
     "start_time": "2019-10-14T03:12:18.785859Z"
    }
   },
   "outputs": [],
   "source": [
    "COLS = [col for col in all_features if (\"USDVND_max\" not in col\n",
    "                                        and \"USDVND_min\" not in col\n",
    "                                        and \"USDVND_open\" not in col)]\n",
    "final_fts = all_features[COLS].ffill()"
   ]
  },
  {
   "cell_type": "markdown",
   "metadata": {},
   "source": [
    "Формируем финальный датафрейм:"
   ]
  },
  {
   "cell_type": "code",
   "execution_count": 21,
   "metadata": {
    "ExecuteTime": {
     "end_time": "2019-10-14T03:12:18.865492Z",
     "start_time": "2019-10-14T03:12:18.805624Z"
    }
   },
   "outputs": [
    {
     "name": "stdout",
     "output_type": "stream",
     "text": [
      "<class 'pandas.core.frame.DataFrame'>\n",
      "DatetimeIndex: 204 entries, 2002-08-01 to 2019-07-01\n",
      "Columns: 379 entries, rubber to rubber_close_180D_min\n",
      "dtypes: float64(379)\n",
      "memory usage: 605.6 KB\n"
     ]
    }
   ],
   "source": [
    "df = train_target.join(final_fts.set_index(\"prediction_date\"), how=\"outer\")\n",
    "df.index.name = \"date\"\n",
    "df.info()"
   ]
  },
  {
   "cell_type": "markdown",
   "metadata": {},
   "source": [
    "Добавляем календарные признаки:"
   ]
  },
  {
   "cell_type": "code",
   "execution_count": 33,
   "metadata": {
    "ExecuteTime": {
     "end_time": "2019-10-14T03:12:18.879064Z",
     "start_time": "2019-10-14T03:12:18.869457Z"
    }
   },
   "outputs": [
    {
     "data": {
      "text/plain": [
       "0"
      ]
     },
     "execution_count": 33,
     "metadata": {},
     "output_type": "execute_result"
    }
   ],
   "source": [
    "df[\"month\"] = df.index.month\n",
    "df1 = df[:'2015'].copy()\n",
    "FTS_COLS = df1.columns[1:]\n",
    "TARGET = \"rubber\"\n",
    "df1.isnull().sum().sum()"
   ]
  },
  {
   "cell_type": "code",
   "execution_count": 103,
   "metadata": {},
   "outputs": [],
   "source": [
    "need = df[\"2016\":].copy()"
   ]
  },
  {
   "cell_type": "code",
   "execution_count": 34,
   "metadata": {
    "ExecuteTime": {
     "end_time": "2019-10-14T03:12:18.942845Z",
     "start_time": "2019-10-14T03:12:18.888173Z"
    }
   },
   "outputs": [
    {
     "data": {
      "text/html": [
       "<div>\n",
       "<style scoped>\n",
       "    .dataframe tbody tr th:only-of-type {\n",
       "        vertical-align: middle;\n",
       "    }\n",
       "\n",
       "    .dataframe tbody tr th {\n",
       "        vertical-align: top;\n",
       "    }\n",
       "\n",
       "    .dataframe thead th {\n",
       "        text-align: right;\n",
       "    }\n",
       "</style>\n",
       "<table border=\"1\" class=\"dataframe\">\n",
       "  <thead>\n",
       "    <tr style=\"text-align: right;\">\n",
       "      <th></th>\n",
       "      <th>rubber</th>\n",
       "      <th>brent_close_1D_mean</th>\n",
       "      <th>brent_open_1D_mean</th>\n",
       "      <th>brent_max_1D_mean</th>\n",
       "      <th>brent_min_1D_mean</th>\n",
       "      <th>USDCNY_close_1D_mean</th>\n",
       "      <th>USDCNY_open_1D_mean</th>\n",
       "      <th>USDCNY_max_1D_mean</th>\n",
       "      <th>USDCNY_min_1D_mean</th>\n",
       "      <th>USDTHB_mid_1D_mean</th>\n",
       "      <th>...</th>\n",
       "      <th>USDTHB_max_180D_min</th>\n",
       "      <th>USDTHB_min_180D_min</th>\n",
       "      <th>USDTHB_open_180D_min</th>\n",
       "      <th>USDIDR_mid_180D_min</th>\n",
       "      <th>USDIDR_max_180D_min</th>\n",
       "      <th>USDIDR_min_180D_min</th>\n",
       "      <th>USDIDR_open_180D_min</th>\n",
       "      <th>USDVND_mid_180D_min</th>\n",
       "      <th>rubber_close_180D_min</th>\n",
       "      <th>month</th>\n",
       "    </tr>\n",
       "    <tr>\n",
       "      <th>date</th>\n",
       "      <th></th>\n",
       "      <th></th>\n",
       "      <th></th>\n",
       "      <th></th>\n",
       "      <th></th>\n",
       "      <th></th>\n",
       "      <th></th>\n",
       "      <th></th>\n",
       "      <th></th>\n",
       "      <th></th>\n",
       "      <th></th>\n",
       "      <th></th>\n",
       "      <th></th>\n",
       "      <th></th>\n",
       "      <th></th>\n",
       "      <th></th>\n",
       "      <th></th>\n",
       "      <th></th>\n",
       "      <th></th>\n",
       "      <th></th>\n",
       "      <th></th>\n",
       "    </tr>\n",
       "  </thead>\n",
       "  <tbody>\n",
       "    <tr>\n",
       "      <th>2002-08-01</th>\n",
       "      <td>830.595238</td>\n",
       "      <td>25.17</td>\n",
       "      <td>25.10</td>\n",
       "      <td>25.20</td>\n",
       "      <td>24.75</td>\n",
       "      <td>8.2766</td>\n",
       "      <td>8.2766</td>\n",
       "      <td>8.2766</td>\n",
       "      <td>8.2766</td>\n",
       "      <td>41.265</td>\n",
       "      <td>...</td>\n",
       "      <td>41.45</td>\n",
       "      <td>41.210</td>\n",
       "      <td>41.42</td>\n",
       "      <td>8710.0</td>\n",
       "      <td>8715.0</td>\n",
       "      <td>8669.0</td>\n",
       "      <td>8700.0</td>\n",
       "      <td>15295.0</td>\n",
       "      <td>827.5</td>\n",
       "      <td>8</td>\n",
       "    </tr>\n",
       "    <tr>\n",
       "      <th>2002-09-01</th>\n",
       "      <td>895.476190</td>\n",
       "      <td>25.17</td>\n",
       "      <td>25.10</td>\n",
       "      <td>25.20</td>\n",
       "      <td>24.75</td>\n",
       "      <td>8.2766</td>\n",
       "      <td>8.2766</td>\n",
       "      <td>8.2766</td>\n",
       "      <td>8.2766</td>\n",
       "      <td>41.265</td>\n",
       "      <td>...</td>\n",
       "      <td>40.45</td>\n",
       "      <td>40.195</td>\n",
       "      <td>40.39</td>\n",
       "      <td>8710.0</td>\n",
       "      <td>8715.0</td>\n",
       "      <td>8669.0</td>\n",
       "      <td>8700.0</td>\n",
       "      <td>15292.0</td>\n",
       "      <td>772.5</td>\n",
       "      <td>9</td>\n",
       "    </tr>\n",
       "    <tr>\n",
       "      <th>2002-10-01</th>\n",
       "      <td>831.304348</td>\n",
       "      <td>28.49</td>\n",
       "      <td>28.61</td>\n",
       "      <td>28.65</td>\n",
       "      <td>28.05</td>\n",
       "      <td>8.2770</td>\n",
       "      <td>8.2770</td>\n",
       "      <td>8.2770</td>\n",
       "      <td>8.2770</td>\n",
       "      <td>42.405</td>\n",
       "      <td>...</td>\n",
       "      <td>40.45</td>\n",
       "      <td>40.195</td>\n",
       "      <td>40.39</td>\n",
       "      <td>8710.0</td>\n",
       "      <td>8715.0</td>\n",
       "      <td>8669.0</td>\n",
       "      <td>8700.0</td>\n",
       "      <td>15292.0</td>\n",
       "      <td>772.5</td>\n",
       "      <td>10</td>\n",
       "    </tr>\n",
       "    <tr>\n",
       "      <th>2002-11-01</th>\n",
       "      <td>840.250000</td>\n",
       "      <td>28.13</td>\n",
       "      <td>28.09</td>\n",
       "      <td>28.40</td>\n",
       "      <td>27.87</td>\n",
       "      <td>8.2771</td>\n",
       "      <td>8.2771</td>\n",
       "      <td>8.2771</td>\n",
       "      <td>8.2771</td>\n",
       "      <td>43.680</td>\n",
       "      <td>...</td>\n",
       "      <td>40.45</td>\n",
       "      <td>40.195</td>\n",
       "      <td>40.39</td>\n",
       "      <td>8710.0</td>\n",
       "      <td>8715.0</td>\n",
       "      <td>8669.0</td>\n",
       "      <td>8700.0</td>\n",
       "      <td>15292.0</td>\n",
       "      <td>772.5</td>\n",
       "      <td>11</td>\n",
       "    </tr>\n",
       "    <tr>\n",
       "      <th>2002-12-01</th>\n",
       "      <td>849.875000</td>\n",
       "      <td>28.13</td>\n",
       "      <td>28.09</td>\n",
       "      <td>28.40</td>\n",
       "      <td>27.87</td>\n",
       "      <td>8.2771</td>\n",
       "      <td>8.2771</td>\n",
       "      <td>8.2771</td>\n",
       "      <td>8.2771</td>\n",
       "      <td>43.680</td>\n",
       "      <td>...</td>\n",
       "      <td>40.45</td>\n",
       "      <td>40.195</td>\n",
       "      <td>40.39</td>\n",
       "      <td>8710.0</td>\n",
       "      <td>8715.0</td>\n",
       "      <td>8669.0</td>\n",
       "      <td>8700.0</td>\n",
       "      <td>15292.0</td>\n",
       "      <td>772.5</td>\n",
       "      <td>12</td>\n",
       "    </tr>\n",
       "    <tr>\n",
       "      <th>...</th>\n",
       "      <td>...</td>\n",
       "      <td>...</td>\n",
       "      <td>...</td>\n",
       "      <td>...</td>\n",
       "      <td>...</td>\n",
       "      <td>...</td>\n",
       "      <td>...</td>\n",
       "      <td>...</td>\n",
       "      <td>...</td>\n",
       "      <td>...</td>\n",
       "      <td>...</td>\n",
       "      <td>...</td>\n",
       "      <td>...</td>\n",
       "      <td>...</td>\n",
       "      <td>...</td>\n",
       "      <td>...</td>\n",
       "      <td>...</td>\n",
       "      <td>...</td>\n",
       "      <td>...</td>\n",
       "      <td>...</td>\n",
       "      <td>...</td>\n",
       "    </tr>\n",
       "    <tr>\n",
       "      <th>2015-08-01</th>\n",
       "      <td>1319.947368</td>\n",
       "      <td>58.61</td>\n",
       "      <td>57.10</td>\n",
       "      <td>59.27</td>\n",
       "      <td>57.01</td>\n",
       "      <td>6.2088</td>\n",
       "      <td>6.2100</td>\n",
       "      <td>6.2100</td>\n",
       "      <td>6.2069</td>\n",
       "      <td>33.940</td>\n",
       "      <td>...</td>\n",
       "      <td>32.38</td>\n",
       "      <td>32.260</td>\n",
       "      <td>32.28</td>\n",
       "      <td>12472.5</td>\n",
       "      <td>12505.0</td>\n",
       "      <td>12400.0</td>\n",
       "      <td>12400.0</td>\n",
       "      <td>21165.0</td>\n",
       "      <td>1380.0</td>\n",
       "      <td>8</td>\n",
       "    </tr>\n",
       "    <tr>\n",
       "      <th>2015-09-01</th>\n",
       "      <td>1247.200000</td>\n",
       "      <td>58.61</td>\n",
       "      <td>57.10</td>\n",
       "      <td>59.27</td>\n",
       "      <td>57.01</td>\n",
       "      <td>6.2088</td>\n",
       "      <td>6.2100</td>\n",
       "      <td>6.2100</td>\n",
       "      <td>6.2069</td>\n",
       "      <td>33.940</td>\n",
       "      <td>...</td>\n",
       "      <td>32.38</td>\n",
       "      <td>32.260</td>\n",
       "      <td>32.28</td>\n",
       "      <td>12715.0</td>\n",
       "      <td>12715.0</td>\n",
       "      <td>12675.0</td>\n",
       "      <td>12675.0</td>\n",
       "      <td>21287.5</td>\n",
       "      <td>1367.0</td>\n",
       "      <td>9</td>\n",
       "    </tr>\n",
       "    <tr>\n",
       "      <th>2015-10-01</th>\n",
       "      <td>1252.136364</td>\n",
       "      <td>47.58</td>\n",
       "      <td>49.39</td>\n",
       "      <td>50.04</td>\n",
       "      <td>47.32</td>\n",
       "      <td>6.3778</td>\n",
       "      <td>6.3610</td>\n",
       "      <td>6.3800</td>\n",
       "      <td>6.3610</td>\n",
       "      <td>36.200</td>\n",
       "      <td>...</td>\n",
       "      <td>32.42</td>\n",
       "      <td>32.260</td>\n",
       "      <td>32.28</td>\n",
       "      <td>12850.0</td>\n",
       "      <td>12870.0</td>\n",
       "      <td>12800.0</td>\n",
       "      <td>12833.0</td>\n",
       "      <td>21475.0</td>\n",
       "      <td>1219.0</td>\n",
       "      <td>10</td>\n",
       "    </tr>\n",
       "    <tr>\n",
       "      <th>2015-11-01</th>\n",
       "      <td>1171.450000</td>\n",
       "      <td>52.65</td>\n",
       "      <td>53.35</td>\n",
       "      <td>54.05</td>\n",
       "      <td>52.21</td>\n",
       "      <td>6.3453</td>\n",
       "      <td>6.3532</td>\n",
       "      <td>6.3532</td>\n",
       "      <td>6.3432</td>\n",
       "      <td>35.540</td>\n",
       "      <td>...</td>\n",
       "      <td>32.42</td>\n",
       "      <td>32.260</td>\n",
       "      <td>32.28</td>\n",
       "      <td>12850.0</td>\n",
       "      <td>12870.0</td>\n",
       "      <td>12800.0</td>\n",
       "      <td>12833.0</td>\n",
       "      <td>21582.5</td>\n",
       "      <td>1219.0</td>\n",
       "      <td>11</td>\n",
       "    </tr>\n",
       "    <tr>\n",
       "      <th>2015-12-01</th>\n",
       "      <td>1171.571429</td>\n",
       "      <td>47.19</td>\n",
       "      <td>47.46</td>\n",
       "      <td>48.41</td>\n",
       "      <td>47.01</td>\n",
       "      <td>6.3621</td>\n",
       "      <td>6.3638</td>\n",
       "      <td>6.3674</td>\n",
       "      <td>6.3572</td>\n",
       "      <td>35.910</td>\n",
       "      <td>...</td>\n",
       "      <td>33.52</td>\n",
       "      <td>33.280</td>\n",
       "      <td>33.39</td>\n",
       "      <td>13091.0</td>\n",
       "      <td>13100.0</td>\n",
       "      <td>13050.0</td>\n",
       "      <td>13050.0</td>\n",
       "      <td>21765.0</td>\n",
       "      <td>1171.0</td>\n",
       "      <td>12</td>\n",
       "    </tr>\n",
       "  </tbody>\n",
       "</table>\n",
       "<p>161 rows × 380 columns</p>\n",
       "</div>"
      ],
      "text/plain": [
       "                 rubber  brent_close_1D_mean  brent_open_1D_mean  \\\n",
       "date                                                               \n",
       "2002-08-01   830.595238                25.17               25.10   \n",
       "2002-09-01   895.476190                25.17               25.10   \n",
       "2002-10-01   831.304348                28.49               28.61   \n",
       "2002-11-01   840.250000                28.13               28.09   \n",
       "2002-12-01   849.875000                28.13               28.09   \n",
       "...                 ...                  ...                 ...   \n",
       "2015-08-01  1319.947368                58.61               57.10   \n",
       "2015-09-01  1247.200000                58.61               57.10   \n",
       "2015-10-01  1252.136364                47.58               49.39   \n",
       "2015-11-01  1171.450000                52.65               53.35   \n",
       "2015-12-01  1171.571429                47.19               47.46   \n",
       "\n",
       "            brent_max_1D_mean  brent_min_1D_mean  USDCNY_close_1D_mean  \\\n",
       "date                                                                     \n",
       "2002-08-01              25.20              24.75                8.2766   \n",
       "2002-09-01              25.20              24.75                8.2766   \n",
       "2002-10-01              28.65              28.05                8.2770   \n",
       "2002-11-01              28.40              27.87                8.2771   \n",
       "2002-12-01              28.40              27.87                8.2771   \n",
       "...                       ...                ...                   ...   \n",
       "2015-08-01              59.27              57.01                6.2088   \n",
       "2015-09-01              59.27              57.01                6.2088   \n",
       "2015-10-01              50.04              47.32                6.3778   \n",
       "2015-11-01              54.05              52.21                6.3453   \n",
       "2015-12-01              48.41              47.01                6.3621   \n",
       "\n",
       "            USDCNY_open_1D_mean  USDCNY_max_1D_mean  USDCNY_min_1D_mean  \\\n",
       "date                                                                      \n",
       "2002-08-01               8.2766              8.2766              8.2766   \n",
       "2002-09-01               8.2766              8.2766              8.2766   \n",
       "2002-10-01               8.2770              8.2770              8.2770   \n",
       "2002-11-01               8.2771              8.2771              8.2771   \n",
       "2002-12-01               8.2771              8.2771              8.2771   \n",
       "...                         ...                 ...                 ...   \n",
       "2015-08-01               6.2100              6.2100              6.2069   \n",
       "2015-09-01               6.2100              6.2100              6.2069   \n",
       "2015-10-01               6.3610              6.3800              6.3610   \n",
       "2015-11-01               6.3532              6.3532              6.3432   \n",
       "2015-12-01               6.3638              6.3674              6.3572   \n",
       "\n",
       "            USDTHB_mid_1D_mean  ...  USDTHB_max_180D_min  USDTHB_min_180D_min  \\\n",
       "date                            ...                                             \n",
       "2002-08-01              41.265  ...                41.45               41.210   \n",
       "2002-09-01              41.265  ...                40.45               40.195   \n",
       "2002-10-01              42.405  ...                40.45               40.195   \n",
       "2002-11-01              43.680  ...                40.45               40.195   \n",
       "2002-12-01              43.680  ...                40.45               40.195   \n",
       "...                        ...  ...                  ...                  ...   \n",
       "2015-08-01              33.940  ...                32.38               32.260   \n",
       "2015-09-01              33.940  ...                32.38               32.260   \n",
       "2015-10-01              36.200  ...                32.42               32.260   \n",
       "2015-11-01              35.540  ...                32.42               32.260   \n",
       "2015-12-01              35.910  ...                33.52               33.280   \n",
       "\n",
       "            USDTHB_open_180D_min  USDIDR_mid_180D_min  USDIDR_max_180D_min  \\\n",
       "date                                                                         \n",
       "2002-08-01                 41.42               8710.0               8715.0   \n",
       "2002-09-01                 40.39               8710.0               8715.0   \n",
       "2002-10-01                 40.39               8710.0               8715.0   \n",
       "2002-11-01                 40.39               8710.0               8715.0   \n",
       "2002-12-01                 40.39               8710.0               8715.0   \n",
       "...                          ...                  ...                  ...   \n",
       "2015-08-01                 32.28              12472.5              12505.0   \n",
       "2015-09-01                 32.28              12715.0              12715.0   \n",
       "2015-10-01                 32.28              12850.0              12870.0   \n",
       "2015-11-01                 32.28              12850.0              12870.0   \n",
       "2015-12-01                 33.39              13091.0              13100.0   \n",
       "\n",
       "            USDIDR_min_180D_min  USDIDR_open_180D_min  USDVND_mid_180D_min  \\\n",
       "date                                                                         \n",
       "2002-08-01               8669.0                8700.0              15295.0   \n",
       "2002-09-01               8669.0                8700.0              15292.0   \n",
       "2002-10-01               8669.0                8700.0              15292.0   \n",
       "2002-11-01               8669.0                8700.0              15292.0   \n",
       "2002-12-01               8669.0                8700.0              15292.0   \n",
       "...                         ...                   ...                  ...   \n",
       "2015-08-01              12400.0               12400.0              21165.0   \n",
       "2015-09-01              12675.0               12675.0              21287.5   \n",
       "2015-10-01              12800.0               12833.0              21475.0   \n",
       "2015-11-01              12800.0               12833.0              21582.5   \n",
       "2015-12-01              13050.0               13050.0              21765.0   \n",
       "\n",
       "            rubber_close_180D_min  month  \n",
       "date                                      \n",
       "2002-08-01                  827.5      8  \n",
       "2002-09-01                  772.5      9  \n",
       "2002-10-01                  772.5     10  \n",
       "2002-11-01                  772.5     11  \n",
       "2002-12-01                  772.5     12  \n",
       "...                           ...    ...  \n",
       "2015-08-01                 1380.0      8  \n",
       "2015-09-01                 1367.0      9  \n",
       "2015-10-01                 1219.0     10  \n",
       "2015-11-01                 1219.0     11  \n",
       "2015-12-01                 1171.0     12  \n",
       "\n",
       "[161 rows x 380 columns]"
      ]
     },
     "execution_count": 34,
     "metadata": {},
     "output_type": "execute_result"
    }
   ],
   "source": [
    "df1"
   ]
  },
  {
   "cell_type": "markdown",
   "metadata": {
    "ExecuteTime": {
     "end_time": "2019-08-19T09:49:55.190063Z",
     "start_time": "2019-08-19T09:49:55.006567Z"
    }
   },
   "source": [
    "# Модели"
   ]
  },
  {
   "cell_type": "markdown",
   "metadata": {},
   "source": [
    "**Построим LassoCV, ExtraTreesRegressor, Ridge, RandomForestRegressor**"
   ]
  },
  {
   "cell_type": "code",
   "execution_count": 64,
   "metadata": {},
   "outputs": [],
   "source": [
    "X = df1[FTS_COLS]\n",
    "y = df1[TARGET]"
   ]
  },
  {
   "cell_type": "code",
   "execution_count": 65,
   "metadata": {},
   "outputs": [],
   "source": [
    "#X, y"
   ]
  },
  {
   "cell_type": "code",
   "execution_count": 66,
   "metadata": {},
   "outputs": [],
   "source": [
    "from sklearn.model_selection import train_test_split\n",
    "X_train, X_test, Y_train, Y_test = train_test_split(X,y, test_size=0.3, random_state=42, shuffle = True)"
   ]
  },
  {
   "cell_type": "code",
   "execution_count": 67,
   "metadata": {},
   "outputs": [],
   "source": [
    "from sklearn.preprocessing import StandardScaler\n",
    "scaler = StandardScaler().fit(X_train)\n",
    "X_train_scaled = scaler.transform(X_train)\n",
    "X_test_scaled = scaler.transform(X_test)"
   ]
  },
  {
   "cell_type": "code",
   "execution_count": 81,
   "metadata": {},
   "outputs": [
    {
     "name": "stderr",
     "output_type": "stream",
     "text": [
      "C:\\Users\\user\\AppData\\Local\\Programs\\Python\\Python311\\Lib\\site-packages\\sklearn\\linear_model\\_coordinate_descent.py:631: ConvergenceWarning: Objective did not converge. You might want to increase the number of iterations, check the scale of the features or consider increasing regularisation. Duality gap: 1.238e+04, tolerance: 8.626e+03\n",
      "  model = cd_fast.enet_coordinate_descent(\n",
      "C:\\Users\\user\\AppData\\Local\\Programs\\Python\\Python311\\Lib\\site-packages\\sklearn\\linear_model\\_coordinate_descent.py:631: ConvergenceWarning: Objective did not converge. You might want to increase the number of iterations, check the scale of the features or consider increasing regularisation. Duality gap: 2.342e+04, tolerance: 8.626e+03\n",
      "  model = cd_fast.enet_coordinate_descent(\n",
      "C:\\Users\\user\\AppData\\Local\\Programs\\Python\\Python311\\Lib\\site-packages\\sklearn\\linear_model\\_coordinate_descent.py:631: ConvergenceWarning: Objective did not converge. You might want to increase the number of iterations, check the scale of the features or consider increasing regularisation. Duality gap: 2.132e+04, tolerance: 8.626e+03\n",
      "  model = cd_fast.enet_coordinate_descent(\n",
      "C:\\Users\\user\\AppData\\Local\\Programs\\Python\\Python311\\Lib\\site-packages\\sklearn\\linear_model\\_coordinate_descent.py:631: ConvergenceWarning: Objective did not converge. You might want to increase the number of iterations, check the scale of the features or consider increasing regularisation. Duality gap: 1.064e+04, tolerance: 9.769e+03\n",
      "  model = cd_fast.enet_coordinate_descent(\n",
      "C:\\Users\\user\\AppData\\Local\\Programs\\Python\\Python311\\Lib\\site-packages\\sklearn\\linear_model\\_coordinate_descent.py:631: ConvergenceWarning: Objective did not converge. You might want to increase the number of iterations, check the scale of the features or consider increasing regularisation. Duality gap: 3.348e+04, tolerance: 9.769e+03\n",
      "  model = cd_fast.enet_coordinate_descent(\n",
      "C:\\Users\\user\\AppData\\Local\\Programs\\Python\\Python311\\Lib\\site-packages\\sklearn\\linear_model\\_coordinate_descent.py:631: ConvergenceWarning: Objective did not converge. You might want to increase the number of iterations, check the scale of the features or consider increasing regularisation. Duality gap: 7.650e+04, tolerance: 9.769e+03\n",
      "  model = cd_fast.enet_coordinate_descent(\n",
      "C:\\Users\\user\\AppData\\Local\\Programs\\Python\\Python311\\Lib\\site-packages\\sklearn\\linear_model\\_coordinate_descent.py:631: ConvergenceWarning: Objective did not converge. You might want to increase the number of iterations, check the scale of the features or consider increasing regularisation. Duality gap: 9.412e+04, tolerance: 9.769e+03\n",
      "  model = cd_fast.enet_coordinate_descent(\n",
      "C:\\Users\\user\\AppData\\Local\\Programs\\Python\\Python311\\Lib\\site-packages\\sklearn\\linear_model\\_coordinate_descent.py:631: ConvergenceWarning: Objective did not converge. You might want to increase the number of iterations, check the scale of the features or consider increasing regularisation. Duality gap: 1.008e+05, tolerance: 9.769e+03\n",
      "  model = cd_fast.enet_coordinate_descent(\n",
      "C:\\Users\\user\\AppData\\Local\\Programs\\Python\\Python311\\Lib\\site-packages\\sklearn\\linear_model\\_coordinate_descent.py:631: ConvergenceWarning: Objective did not converge. You might want to increase the number of iterations, check the scale of the features or consider increasing regularisation. Duality gap: 1.061e+04, tolerance: 9.455e+03\n",
      "  model = cd_fast.enet_coordinate_descent(\n",
      "C:\\Users\\user\\AppData\\Local\\Programs\\Python\\Python311\\Lib\\site-packages\\sklearn\\linear_model\\_coordinate_descent.py:631: ConvergenceWarning: Objective did not converge. You might want to increase the number of iterations, check the scale of the features or consider increasing regularisation. Duality gap: 1.009e+04, tolerance: 9.455e+03\n",
      "  model = cd_fast.enet_coordinate_descent(\n",
      "C:\\Users\\user\\AppData\\Local\\Programs\\Python\\Python311\\Lib\\site-packages\\sklearn\\linear_model\\_coordinate_descent.py:631: ConvergenceWarning: Objective did not converge. You might want to increase the number of iterations, check the scale of the features or consider increasing regularisation. Duality gap: 1.037e+04, tolerance: 9.455e+03\n",
      "  model = cd_fast.enet_coordinate_descent(\n",
      "C:\\Users\\user\\AppData\\Local\\Programs\\Python\\Python311\\Lib\\site-packages\\sklearn\\linear_model\\_coordinate_descent.py:631: ConvergenceWarning: Objective did not converge. You might want to increase the number of iterations, check the scale of the features or consider increasing regularisation. Duality gap: 1.140e+04, tolerance: 9.455e+03\n",
      "  model = cd_fast.enet_coordinate_descent(\n",
      "C:\\Users\\user\\AppData\\Local\\Programs\\Python\\Python311\\Lib\\site-packages\\sklearn\\linear_model\\_coordinate_descent.py:631: ConvergenceWarning: Objective did not converge. You might want to increase the number of iterations, check the scale of the features or consider increasing regularisation. Duality gap: 1.136e+04, tolerance: 9.455e+03\n",
      "  model = cd_fast.enet_coordinate_descent(\n",
      "C:\\Users\\user\\AppData\\Local\\Programs\\Python\\Python311\\Lib\\site-packages\\sklearn\\linear_model\\_coordinate_descent.py:631: ConvergenceWarning: Objective did not converge. You might want to increase the number of iterations, check the scale of the features or consider increasing regularisation. Duality gap: 1.145e+04, tolerance: 9.455e+03\n",
      "  model = cd_fast.enet_coordinate_descent(\n",
      "C:\\Users\\user\\AppData\\Local\\Programs\\Python\\Python311\\Lib\\site-packages\\sklearn\\linear_model\\_coordinate_descent.py:631: ConvergenceWarning: Objective did not converge. You might want to increase the number of iterations, check the scale of the features or consider increasing regularisation. Duality gap: 9.701e+03, tolerance: 9.455e+03\n",
      "  model = cd_fast.enet_coordinate_descent(\n",
      "C:\\Users\\user\\AppData\\Local\\Programs\\Python\\Python311\\Lib\\site-packages\\sklearn\\linear_model\\_coordinate_descent.py:631: ConvergenceWarning: Objective did not converge. You might want to increase the number of iterations, check the scale of the features or consider increasing regularisation. Duality gap: 1.141e+04, tolerance: 9.455e+03\n",
      "  model = cd_fast.enet_coordinate_descent(\n",
      "C:\\Users\\user\\AppData\\Local\\Programs\\Python\\Python311\\Lib\\site-packages\\sklearn\\linear_model\\_coordinate_descent.py:631: ConvergenceWarning: Objective did not converge. You might want to increase the number of iterations, check the scale of the features or consider increasing regularisation. Duality gap: 1.811e+04, tolerance: 9.455e+03\n",
      "  model = cd_fast.enet_coordinate_descent(\n",
      "C:\\Users\\user\\AppData\\Local\\Programs\\Python\\Python311\\Lib\\site-packages\\sklearn\\linear_model\\_coordinate_descent.py:631: ConvergenceWarning: Objective did not converge. You might want to increase the number of iterations, check the scale of the features or consider increasing regularisation. Duality gap: 2.107e+04, tolerance: 9.455e+03\n",
      "  model = cd_fast.enet_coordinate_descent(\n",
      "C:\\Users\\user\\AppData\\Local\\Programs\\Python\\Python311\\Lib\\site-packages\\sklearn\\linear_model\\_coordinate_descent.py:631: ConvergenceWarning: Objective did not converge. You might want to increase the number of iterations, check the scale of the features or consider increasing regularisation. Duality gap: 1.767e+04, tolerance: 9.318e+03\n",
      "  model = cd_fast.enet_coordinate_descent(\n",
      "C:\\Users\\user\\AppData\\Local\\Programs\\Python\\Python311\\Lib\\site-packages\\sklearn\\linear_model\\_coordinate_descent.py:631: ConvergenceWarning: Objective did not converge. You might want to increase the number of iterations, check the scale of the features or consider increasing regularisation. Duality gap: 2.536e+04, tolerance: 9.318e+03\n",
      "  model = cd_fast.enet_coordinate_descent(\n",
      "C:\\Users\\user\\AppData\\Local\\Programs\\Python\\Python311\\Lib\\site-packages\\sklearn\\linear_model\\_coordinate_descent.py:631: ConvergenceWarning: Objective did not converge. You might want to increase the number of iterations, check the scale of the features or consider increasing regularisation. Duality gap: 2.325e+04, tolerance: 9.318e+03\n",
      "  model = cd_fast.enet_coordinate_descent(\n",
      "C:\\Users\\user\\AppData\\Local\\Programs\\Python\\Python311\\Lib\\site-packages\\sklearn\\linear_model\\_coordinate_descent.py:631: ConvergenceWarning: Objective did not converge. You might want to increase the number of iterations, check the scale of the features or consider increasing regularisation. Duality gap: 2.032e+04, tolerance: 9.318e+03\n",
      "  model = cd_fast.enet_coordinate_descent(\n",
      "C:\\Users\\user\\AppData\\Local\\Programs\\Python\\Python311\\Lib\\site-packages\\sklearn\\linear_model\\_coordinate_descent.py:631: ConvergenceWarning: Objective did not converge. You might want to increase the number of iterations, check the scale of the features or consider increasing regularisation. Duality gap: 2.222e+04, tolerance: 9.318e+03\n",
      "  model = cd_fast.enet_coordinate_descent(\n",
      "C:\\Users\\user\\AppData\\Local\\Programs\\Python\\Python311\\Lib\\site-packages\\sklearn\\linear_model\\_coordinate_descent.py:631: ConvergenceWarning: Objective did not converge. You might want to increase the number of iterations, check the scale of the features or consider increasing regularisation. Duality gap: 2.884e+04, tolerance: 9.318e+03\n",
      "  model = cd_fast.enet_coordinate_descent(\n",
      "C:\\Users\\user\\AppData\\Local\\Programs\\Python\\Python311\\Lib\\site-packages\\sklearn\\linear_model\\_coordinate_descent.py:631: ConvergenceWarning: Objective did not converge. You might want to increase the number of iterations, check the scale of the features or consider increasing regularisation. Duality gap: 3.466e+04, tolerance: 9.318e+03\n",
      "  model = cd_fast.enet_coordinate_descent(\n",
      "C:\\Users\\user\\AppData\\Local\\Programs\\Python\\Python311\\Lib\\site-packages\\sklearn\\linear_model\\_coordinate_descent.py:631: ConvergenceWarning: Objective did not converge. You might want to increase the number of iterations, check the scale of the features or consider increasing regularisation. Duality gap: 5.371e+04, tolerance: 9.318e+03\n",
      "  model = cd_fast.enet_coordinate_descent(\n",
      "C:\\Users\\user\\AppData\\Local\\Programs\\Python\\Python311\\Lib\\site-packages\\sklearn\\linear_model\\_coordinate_descent.py:631: ConvergenceWarning: Objective did not converge. You might want to increase the number of iterations, check the scale of the features or consider increasing regularisation. Duality gap: 5.321e+04, tolerance: 9.318e+03\n",
      "  model = cd_fast.enet_coordinate_descent(\n",
      "C:\\Users\\user\\AppData\\Local\\Programs\\Python\\Python311\\Lib\\site-packages\\sklearn\\linear_model\\_coordinate_descent.py:631: ConvergenceWarning: Objective did not converge. You might want to increase the number of iterations, check the scale of the features or consider increasing regularisation. Duality gap: 7.138e+03, tolerance: 6.871e+03\n",
      "  model = cd_fast.enet_coordinate_descent(\n",
      "C:\\Users\\user\\AppData\\Local\\Programs\\Python\\Python311\\Lib\\site-packages\\sklearn\\linear_model\\_coordinate_descent.py:631: ConvergenceWarning: Objective did not converge. You might want to increase the number of iterations, check the scale of the features or consider increasing regularisation. Duality gap: 1.083e+04, tolerance: 6.871e+03\n",
      "  model = cd_fast.enet_coordinate_descent(\n",
      "C:\\Users\\user\\AppData\\Local\\Programs\\Python\\Python311\\Lib\\site-packages\\sklearn\\linear_model\\_coordinate_descent.py:631: ConvergenceWarning: Objective did not converge. You might want to increase the number of iterations, check the scale of the features or consider increasing regularisation. Duality gap: 1.062e+04, tolerance: 6.871e+03\n",
      "  model = cd_fast.enet_coordinate_descent(\n",
      "C:\\Users\\user\\AppData\\Local\\Programs\\Python\\Python311\\Lib\\site-packages\\sklearn\\linear_model\\_coordinate_descent.py:631: ConvergenceWarning: Objective did not converge. You might want to increase the number of iterations, check the scale of the features or consider increasing regularisation. Duality gap: 7.269e+04, tolerance: 1.104e+04\n",
      "  model = cd_fast.enet_coordinate_descent(\n",
      "C:\\Users\\user\\AppData\\Local\\Programs\\Python\\Python311\\Lib\\site-packages\\sklearn\\linear_model\\_coordinate_descent.py:631: ConvergenceWarning: Objective did not converge. You might want to increase the number of iterations, check the scale of the features or consider increasing regularisation. Duality gap: 1.238e+04, tolerance: 8.626e+03\n",
      "  model = cd_fast.enet_coordinate_descent(\n",
      "C:\\Users\\user\\AppData\\Local\\Programs\\Python\\Python311\\Lib\\site-packages\\sklearn\\linear_model\\_coordinate_descent.py:631: ConvergenceWarning: Objective did not converge. You might want to increase the number of iterations, check the scale of the features or consider increasing regularisation. Duality gap: 2.342e+04, tolerance: 8.626e+03\n",
      "  model = cd_fast.enet_coordinate_descent(\n",
      "C:\\Users\\user\\AppData\\Local\\Programs\\Python\\Python311\\Lib\\site-packages\\sklearn\\linear_model\\_coordinate_descent.py:631: ConvergenceWarning: Objective did not converge. You might want to increase the number of iterations, check the scale of the features or consider increasing regularisation. Duality gap: 2.132e+04, tolerance: 8.626e+03\n",
      "  model = cd_fast.enet_coordinate_descent(\n",
      "C:\\Users\\user\\AppData\\Local\\Programs\\Python\\Python311\\Lib\\site-packages\\sklearn\\linear_model\\_coordinate_descent.py:631: ConvergenceWarning: Objective did not converge. You might want to increase the number of iterations, check the scale of the features or consider increasing regularisation. Duality gap: 1.064e+04, tolerance: 9.769e+03\n",
      "  model = cd_fast.enet_coordinate_descent(\n",
      "C:\\Users\\user\\AppData\\Local\\Programs\\Python\\Python311\\Lib\\site-packages\\sklearn\\linear_model\\_coordinate_descent.py:631: ConvergenceWarning: Objective did not converge. You might want to increase the number of iterations, check the scale of the features or consider increasing regularisation. Duality gap: 3.348e+04, tolerance: 9.769e+03\n",
      "  model = cd_fast.enet_coordinate_descent(\n",
      "C:\\Users\\user\\AppData\\Local\\Programs\\Python\\Python311\\Lib\\site-packages\\sklearn\\linear_model\\_coordinate_descent.py:631: ConvergenceWarning: Objective did not converge. You might want to increase the number of iterations, check the scale of the features or consider increasing regularisation. Duality gap: 7.650e+04, tolerance: 9.769e+03\n",
      "  model = cd_fast.enet_coordinate_descent(\n",
      "C:\\Users\\user\\AppData\\Local\\Programs\\Python\\Python311\\Lib\\site-packages\\sklearn\\linear_model\\_coordinate_descent.py:631: ConvergenceWarning: Objective did not converge. You might want to increase the number of iterations, check the scale of the features or consider increasing regularisation. Duality gap: 9.412e+04, tolerance: 9.769e+03\n",
      "  model = cd_fast.enet_coordinate_descent(\n",
      "C:\\Users\\user\\AppData\\Local\\Programs\\Python\\Python311\\Lib\\site-packages\\sklearn\\linear_model\\_coordinate_descent.py:631: ConvergenceWarning: Objective did not converge. You might want to increase the number of iterations, check the scale of the features or consider increasing regularisation. Duality gap: 1.008e+05, tolerance: 9.769e+03\n",
      "  model = cd_fast.enet_coordinate_descent(\n",
      "C:\\Users\\user\\AppData\\Local\\Programs\\Python\\Python311\\Lib\\site-packages\\sklearn\\linear_model\\_coordinate_descent.py:631: ConvergenceWarning: Objective did not converge. You might want to increase the number of iterations, check the scale of the features or consider increasing regularisation. Duality gap: 1.061e+04, tolerance: 9.455e+03\n",
      "  model = cd_fast.enet_coordinate_descent(\n",
      "C:\\Users\\user\\AppData\\Local\\Programs\\Python\\Python311\\Lib\\site-packages\\sklearn\\linear_model\\_coordinate_descent.py:631: ConvergenceWarning: Objective did not converge. You might want to increase the number of iterations, check the scale of the features or consider increasing regularisation. Duality gap: 1.009e+04, tolerance: 9.455e+03\n",
      "  model = cd_fast.enet_coordinate_descent(\n",
      "C:\\Users\\user\\AppData\\Local\\Programs\\Python\\Python311\\Lib\\site-packages\\sklearn\\linear_model\\_coordinate_descent.py:631: ConvergenceWarning: Objective did not converge. You might want to increase the number of iterations, check the scale of the features or consider increasing regularisation. Duality gap: 1.037e+04, tolerance: 9.455e+03\n",
      "  model = cd_fast.enet_coordinate_descent(\n",
      "C:\\Users\\user\\AppData\\Local\\Programs\\Python\\Python311\\Lib\\site-packages\\sklearn\\linear_model\\_coordinate_descent.py:631: ConvergenceWarning: Objective did not converge. You might want to increase the number of iterations, check the scale of the features or consider increasing regularisation. Duality gap: 1.140e+04, tolerance: 9.455e+03\n",
      "  model = cd_fast.enet_coordinate_descent(\n",
      "C:\\Users\\user\\AppData\\Local\\Programs\\Python\\Python311\\Lib\\site-packages\\sklearn\\linear_model\\_coordinate_descent.py:631: ConvergenceWarning: Objective did not converge. You might want to increase the number of iterations, check the scale of the features or consider increasing regularisation. Duality gap: 1.136e+04, tolerance: 9.455e+03\n",
      "  model = cd_fast.enet_coordinate_descent(\n",
      "C:\\Users\\user\\AppData\\Local\\Programs\\Python\\Python311\\Lib\\site-packages\\sklearn\\linear_model\\_coordinate_descent.py:631: ConvergenceWarning: Objective did not converge. You might want to increase the number of iterations, check the scale of the features or consider increasing regularisation. Duality gap: 1.145e+04, tolerance: 9.455e+03\n",
      "  model = cd_fast.enet_coordinate_descent(\n",
      "C:\\Users\\user\\AppData\\Local\\Programs\\Python\\Python311\\Lib\\site-packages\\sklearn\\linear_model\\_coordinate_descent.py:631: ConvergenceWarning: Objective did not converge. You might want to increase the number of iterations, check the scale of the features or consider increasing regularisation. Duality gap: 9.701e+03, tolerance: 9.455e+03\n",
      "  model = cd_fast.enet_coordinate_descent(\n",
      "C:\\Users\\user\\AppData\\Local\\Programs\\Python\\Python311\\Lib\\site-packages\\sklearn\\linear_model\\_coordinate_descent.py:631: ConvergenceWarning: Objective did not converge. You might want to increase the number of iterations, check the scale of the features or consider increasing regularisation. Duality gap: 1.141e+04, tolerance: 9.455e+03\n",
      "  model = cd_fast.enet_coordinate_descent(\n",
      "C:\\Users\\user\\AppData\\Local\\Programs\\Python\\Python311\\Lib\\site-packages\\sklearn\\linear_model\\_coordinate_descent.py:631: ConvergenceWarning: Objective did not converge. You might want to increase the number of iterations, check the scale of the features or consider increasing regularisation. Duality gap: 1.811e+04, tolerance: 9.455e+03\n",
      "  model = cd_fast.enet_coordinate_descent(\n",
      "C:\\Users\\user\\AppData\\Local\\Programs\\Python\\Python311\\Lib\\site-packages\\sklearn\\linear_model\\_coordinate_descent.py:631: ConvergenceWarning: Objective did not converge. You might want to increase the number of iterations, check the scale of the features or consider increasing regularisation. Duality gap: 2.107e+04, tolerance: 9.455e+03\n",
      "  model = cd_fast.enet_coordinate_descent(\n",
      "C:\\Users\\user\\AppData\\Local\\Programs\\Python\\Python311\\Lib\\site-packages\\sklearn\\linear_model\\_coordinate_descent.py:631: ConvergenceWarning: Objective did not converge. You might want to increase the number of iterations, check the scale of the features or consider increasing regularisation. Duality gap: 1.767e+04, tolerance: 9.318e+03\n",
      "  model = cd_fast.enet_coordinate_descent(\n",
      "C:\\Users\\user\\AppData\\Local\\Programs\\Python\\Python311\\Lib\\site-packages\\sklearn\\linear_model\\_coordinate_descent.py:631: ConvergenceWarning: Objective did not converge. You might want to increase the number of iterations, check the scale of the features or consider increasing regularisation. Duality gap: 2.536e+04, tolerance: 9.318e+03\n",
      "  model = cd_fast.enet_coordinate_descent(\n",
      "C:\\Users\\user\\AppData\\Local\\Programs\\Python\\Python311\\Lib\\site-packages\\sklearn\\linear_model\\_coordinate_descent.py:631: ConvergenceWarning: Objective did not converge. You might want to increase the number of iterations, check the scale of the features or consider increasing regularisation. Duality gap: 2.325e+04, tolerance: 9.318e+03\n",
      "  model = cd_fast.enet_coordinate_descent(\n",
      "C:\\Users\\user\\AppData\\Local\\Programs\\Python\\Python311\\Lib\\site-packages\\sklearn\\linear_model\\_coordinate_descent.py:631: ConvergenceWarning: Objective did not converge. You might want to increase the number of iterations, check the scale of the features or consider increasing regularisation. Duality gap: 2.032e+04, tolerance: 9.318e+03\n",
      "  model = cd_fast.enet_coordinate_descent(\n",
      "C:\\Users\\user\\AppData\\Local\\Programs\\Python\\Python311\\Lib\\site-packages\\sklearn\\linear_model\\_coordinate_descent.py:631: ConvergenceWarning: Objective did not converge. You might want to increase the number of iterations, check the scale of the features or consider increasing regularisation. Duality gap: 2.222e+04, tolerance: 9.318e+03\n",
      "  model = cd_fast.enet_coordinate_descent(\n",
      "C:\\Users\\user\\AppData\\Local\\Programs\\Python\\Python311\\Lib\\site-packages\\sklearn\\linear_model\\_coordinate_descent.py:631: ConvergenceWarning: Objective did not converge. You might want to increase the number of iterations, check the scale of the features or consider increasing regularisation. Duality gap: 2.884e+04, tolerance: 9.318e+03\n",
      "  model = cd_fast.enet_coordinate_descent(\n",
      "C:\\Users\\user\\AppData\\Local\\Programs\\Python\\Python311\\Lib\\site-packages\\sklearn\\linear_model\\_coordinate_descent.py:631: ConvergenceWarning: Objective did not converge. You might want to increase the number of iterations, check the scale of the features or consider increasing regularisation. Duality gap: 3.466e+04, tolerance: 9.318e+03\n",
      "  model = cd_fast.enet_coordinate_descent(\n",
      "C:\\Users\\user\\AppData\\Local\\Programs\\Python\\Python311\\Lib\\site-packages\\sklearn\\linear_model\\_coordinate_descent.py:631: ConvergenceWarning: Objective did not converge. You might want to increase the number of iterations, check the scale of the features or consider increasing regularisation. Duality gap: 5.371e+04, tolerance: 9.318e+03\n",
      "  model = cd_fast.enet_coordinate_descent(\n",
      "C:\\Users\\user\\AppData\\Local\\Programs\\Python\\Python311\\Lib\\site-packages\\sklearn\\linear_model\\_coordinate_descent.py:631: ConvergenceWarning: Objective did not converge. You might want to increase the number of iterations, check the scale of the features or consider increasing regularisation. Duality gap: 5.321e+04, tolerance: 9.318e+03\n",
      "  model = cd_fast.enet_coordinate_descent(\n",
      "C:\\Users\\user\\AppData\\Local\\Programs\\Python\\Python311\\Lib\\site-packages\\sklearn\\linear_model\\_coordinate_descent.py:631: ConvergenceWarning: Objective did not converge. You might want to increase the number of iterations, check the scale of the features or consider increasing regularisation. Duality gap: 7.138e+03, tolerance: 6.871e+03\n",
      "  model = cd_fast.enet_coordinate_descent(\n",
      "C:\\Users\\user\\AppData\\Local\\Programs\\Python\\Python311\\Lib\\site-packages\\sklearn\\linear_model\\_coordinate_descent.py:631: ConvergenceWarning: Objective did not converge. You might want to increase the number of iterations, check the scale of the features or consider increasing regularisation. Duality gap: 1.083e+04, tolerance: 6.871e+03\n",
      "  model = cd_fast.enet_coordinate_descent(\n",
      "C:\\Users\\user\\AppData\\Local\\Programs\\Python\\Python311\\Lib\\site-packages\\sklearn\\linear_model\\_coordinate_descent.py:631: ConvergenceWarning: Objective did not converge. You might want to increase the number of iterations, check the scale of the features or consider increasing regularisation. Duality gap: 1.062e+04, tolerance: 6.871e+03\n",
      "  model = cd_fast.enet_coordinate_descent(\n",
      "C:\\Users\\user\\AppData\\Local\\Programs\\Python\\Python311\\Lib\\site-packages\\sklearn\\linear_model\\_coordinate_descent.py:631: ConvergenceWarning: Objective did not converge. You might want to increase the number of iterations, check the scale of the features or consider increasing regularisation. Duality gap: 7.269e+04, tolerance: 1.104e+04\n",
      "  model = cd_fast.enet_coordinate_descent(\n"
     ]
    }
   ],
   "source": [
    "extratrees = ExtraTreesRegressor(n_estimators=150, random_state=42).fit(X_train, Y_train)\n",
    "lasso = LassoCV(random_state=42).fit(X_train, Y_train)\n",
    "linreg = LinearRegression().fit(X_train, Y_train)\n",
    "ridge_cv = RidgeCV().fit(X_train, Y_train)\n",
    "random_forest = RandomForestRegressor(n_estimators=64).fit(X_train, Y_train)"
   ]
  },
  {
   "cell_type": "markdown",
   "metadata": {},
   "source": [
    "**Посмотрим у какой модели наибольший score**"
   ]
  },
  {
   "cell_type": "code",
   "execution_count": 96,
   "metadata": {},
   "outputs": [
    {
     "name": "stdout",
     "output_type": "stream",
     "text": [
      "0.9745863340603234 0.9395214541915632 -0.21210355779695655 -0.09329039297827446 0.9616559231476716\n"
     ]
    }
   ],
   "source": [
    "print(extratrees.score(X_test, Y_test),\n",
    "     lasso.score(X_test, Y_test),\n",
    "     linreg.score(X_test, Y_test),\n",
    "     ridge_cv.score(X_test, Y_test),\n",
    "     random_forest.score(X_test, Y_test))"
   ]
  },
  {
   "cell_type": "markdown",
   "metadata": {},
   "source": [
    "**Наибольший у extratreesregressor, хотя RandomForest тоже близок по значению**"
   ]
  },
  {
   "cell_type": "markdown",
   "metadata": {},
   "source": [
    "**Выведем предсказанные значения нашей модели**"
   ]
  },
  {
   "cell_type": "code",
   "execution_count": 104,
   "metadata": {},
   "outputs": [
    {
     "name": "stdout",
     "output_type": "stream",
     "text": [
      "                 rubber\n",
      "date                   \n",
      "2016-01-01  1213.760320\n",
      "2016-02-01  1207.470713\n",
      "2016-03-01  1228.565506\n",
      "2016-04-01  1213.337865\n",
      "2016-05-01  1267.429393\n",
      "2016-06-01  1313.216239\n",
      "2016-07-01  1233.947156\n",
      "2016-08-01  1233.627216\n",
      "2016-09-01  1256.963853\n",
      "2016-10-01  1253.928142\n",
      "2016-11-01  1296.942187\n",
      "2016-12-01  1337.928812\n",
      "2017-01-01  1456.550541\n",
      "2017-02-01  1925.976456\n",
      "2017-03-01  2120.515842\n",
      "2017-04-01  2102.159633\n",
      "2017-05-01  1553.722493\n",
      "2017-06-01  1337.648231\n",
      "2017-07-01  1292.864284\n",
      "2017-08-01  1299.146434\n",
      "2017-09-01  1333.417637\n",
      "2017-10-01  1409.736423\n",
      "2017-11-01  1409.695898\n",
      "2017-12-01  1462.657223\n",
      "2018-01-01  1473.208019\n",
      "2018-02-01  1486.334006\n",
      "2018-03-01  1486.663378\n",
      "2018-04-01  1490.618073\n",
      "2018-05-01  1445.789368\n",
      "2018-06-01  1500.495151\n",
      "2018-07-01  1484.297616\n",
      "2018-08-01  1461.434540\n",
      "2018-09-01  1408.371110\n",
      "2018-10-01  1406.782801\n",
      "2018-11-01  1427.262026\n",
      "2018-12-01  1411.079891\n",
      "2019-01-01  1390.716961\n",
      "2019-02-01  1414.198939\n",
      "2019-03-01  1451.742846\n",
      "2019-04-01  1514.987992\n",
      "2019-05-01  1495.833198\n",
      "2019-06-01  1487.644607\n"
     ]
    }
   ],
   "source": [
    "predictions = pd.DataFrame(extratrees.predict(need[FTS_COLS]), columns=[\"rubber\"], index=target.index)\n",
    "predictions.loc[test_target.index].to_csv(\"rubber_extra_trees_regressor.csv\")\n",
    "print(target_preds.loc[test_target.index])"
   ]
  },
  {
   "cell_type": "code",
   "execution_count": null,
   "metadata": {},
   "outputs": [],
   "source": []
  }
 ],
 "metadata": {
  "@webio": {
   "lastCommId": null,
   "lastKernelId": null
  },
  "kernelspec": {
   "display_name": "Python 3 (ipykernel)",
   "language": "python",
   "name": "python3"
  },
  "language_info": {
   "codemirror_mode": {
    "name": "ipython",
    "version": 3
   },
   "file_extension": ".py",
   "mimetype": "text/x-python",
   "name": "python",
   "nbconvert_exporter": "python",
   "pygments_lexer": "ipython3",
   "version": "3.11.1"
  },
  "nteract": {
   "version": "0.15.0"
  },
  "toc": {
   "base_numbering": 1,
   "nav_menu": {},
   "number_sections": true,
   "sideBar": true,
   "skip_h1_title": false,
   "title_cell": "Table of Contents",
   "title_sidebar": "Contents",
   "toc_cell": false,
   "toc_position": {},
   "toc_section_display": true,
   "toc_window_display": false
  }
 },
 "nbformat": 4,
 "nbformat_minor": 4
}
